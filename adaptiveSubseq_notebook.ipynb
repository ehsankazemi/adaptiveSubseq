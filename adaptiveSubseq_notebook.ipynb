{
 "cells": [
  {
   "cell_type": "markdown",
   "metadata": {},
   "source": [
    "## Description\n",
    "This code is only for the Amazon application. The Wikipedia application requires a 1GB file to run and was thus not included."
   ]
  },
  {
   "cell_type": "markdown",
   "metadata": {},
   "source": [
    "the __\"amazonFunctions.py\"__ file contains all the important function definitions (i.e. algorithms and everything). The __\"amazonMain.py\"__ is the script to look at (it runs the codes of this notebook). Here you can edit the hyperparameter settings and get the graphs. "
   ]
  },
  {
   "cell_type": "code",
   "execution_count": 1,
   "metadata": {},
   "outputs": [
    {
     "name": "stderr",
     "output_type": "stream",
     "text": [
      "Using TensorFlow backend.\n",
      "/Users/ekazemi/anaconda3/lib/python3.6/importlib/_bootstrap.py:219: RuntimeWarning: compiletime version 3.5 of module 'tensorflow.python.framework.fast_tensor_util' does not match runtime version 3.6\n",
      "  return f(*args, **kwds)\n"
     ]
    }
   ],
   "source": [
    "from amazonFunctions import * #import all the functions \n",
    "import matplotlib.pyplot as plt\n",
    "import numpy as np\n",
    "%matplotlib inline"
   ]
  },
  {
   "cell_type": "markdown",
   "metadata": {},
   "source": [
    "# Parameter Setting\n",
    "We then load one of the two existing datasets.\n",
    "The SIEVE-STREAMING++ algorithm is implemented by the sieveStreamingPlusPlus(stream, k, eps, function) where:\n",
    "  <li>__\"path\"__ is the path to the file we read from. Here we load the \"videoGames.csv\" file. </li>\n",
    "  <li>__\"m\"__ is the minimum number of reviews for a product to be considered.</li>\n",
    "  <li>__\"percTrain\"__ is the fraction of data to be used for training. Default is set to percTrain = 0.01, which gives the graphs in 2e and 2f. This takes about 1 minute per trial. If we set percTrain = 0.8 it will give the graphs in 2b and 2c, but this takes about 20-30 minutes per trial. </li>\n",
    "  <li>__\"given\"__ is the array for the different number of given products to be given to each algorithm at start.</li>\n",
    "  <li>__\"k\"__ is the number of products to be predicted.</li>\n",
    "  <li>__\"thresh\"__ : In Adaptive Sequence Greedy, only consider edges with this value or higher (just makes code faster) and it could be set to 0.</li>\n",
    "  <li>__\"inputSteps\"__ is the number of input steps to LSTM . It is equal to the number of given items.</li>\n",
    "  <li>__\"numTrials\"__ is the number of trials to run for experiments (each trial is a new split of training and testing).</li>\n",
    "  <li>__\"numNodes\"__ is the number of nodes in feed-forward network hidden layer.</li>\n",
    "  <li>__\"numLSTM\"__ is the number of LSTM nodes in LSTM hidden layer.</li>"
   ]
  },
  {
   "cell_type": "code",
   "execution_count": 2,
   "metadata": {},
   "outputs": [],
   "source": [
    "path = 'videoGames.csv' \n",
    "m = 50 #\n",
    "percTrain = 0.01 \n",
    "given = 4 \n",
    "k = 6 \n",
    "thresh = 0.05 \n",
    "inputSteps = given \n",
    "numTrials = 5 \n",
    "numNodes = 256 #\n",
    "numLSTM = 8 #"
   ]
  },
  {
   "cell_type": "markdown",
   "metadata": {},
   "source": [
    "Next we import the data and parse the sequence for each user."
   ]
  },
  {
   "cell_type": "code",
   "execution_count": 3,
   "metadata": {},
   "outputs": [
    {
     "name": "stdout",
     "output_type": "stream",
     "text": [
      "Importing data...\n",
      "Building userDic...\n"
     ]
    }
   ],
   "source": [
    "arr = importData(path) #Import the data\n",
    "users = userDic(arr) #Parse out the sequence for each user."
   ]
  },
  {
   "cell_type": "markdown",
   "metadata": {},
   "source": [
    "__productMap__ is a dictionary that maps each remaining product (after removing all products with fewer than m reviews) to a unique integer ID; idMap is an array that we use to map the integer ID back to the product ID."
   ]
  },
  {
   "cell_type": "code",
   "execution_count": 4,
   "metadata": {},
   "outputs": [],
   "source": [
    "productMap,idMap = removeProducts(users,m) "
   ]
  },
  {
   "cell_type": "markdown",
   "metadata": {},
   "source": [
    "Few stats from the dataset"
   ]
  },
  {
   "cell_type": "code",
   "execution_count": 5,
   "metadata": {},
   "outputs": [
    {
     "name": "stdout",
     "output_type": "stream",
     "text": [
      "Number of products: 958\n",
      "Number of users: 24303\n"
     ]
    }
   ],
   "source": [
    "print (\"Number of products:\",len(productMap))\n",
    "print (\"Number of users:\",len(users))"
   ]
  },
  {
   "cell_type": "markdown",
   "metadata": {},
   "source": [
    "# Run Algorithms"
   ]
  },
  {
   "cell_type": "markdown",
   "metadata": {},
   "source": [
    "Arrays to hold results of various algorithms.\n",
    "The results of all the algorithms are stored in:\n",
    "    <li>__ASG__: Adaptive Sequence-Greedy</li> \n",
    "    <li>__SG__: Sequence-Greedy</li> \n",
    "    <li>__nn__: Non-Adaptive Feed Forward NNAdaptive Feed Forward NN </li> \n",
    "    <li>__nnAdaptive__: Adaptive Feed Forward NN </li> \n",
    "    <li>__lstm__: Non-Adaptive Feed Forward NN</li> \n",
    "    <li>__lstmAdaptive__: Adaptive LSTM </li> \n",
    "    <li>__freq__: Frequency</li> "
   ]
  },
  {
   "cell_type": "code",
   "execution_count": 6,
   "metadata": {},
   "outputs": [],
   "source": [
    "ASG = np.zeros((2,k))\n",
    "SG = np.zeros((2,k))\n",
    "nn = np.zeros((2,k)) \n",
    "nnAdaptive = np.zeros((2,k))\n",
    "lstm = np.zeros((2,k))\n",
    "lstmAdaptive = np.zeros((2,k))\n",
    "freq = np.zeros((2,k))"
   ]
  },
  {
   "cell_type": "markdown",
   "metadata": {},
   "source": [
    "We run all the algorithms __numTrials__ times and store their results."
   ]
  },
  {
   "cell_type": "code",
   "execution_count": null,
   "metadata": {},
   "outputs": [
    {
     "name": "stdout",
     "output_type": "stream",
     "text": [
      "------\n",
      " Trial Number 1\n",
      "Train graph: 0.010685920715332031 seconds\n",
      "Train feed-forward network: 1.1515398025512695 seconds\n",
      "Test feed-forward network: 2.1560418605804443 seconds\n",
      "Test adaptive feed-forward network: 4.588396072387695 seconds\n",
      "Train LSTM: 2.26625394821167 seconds\n",
      "Test LSTM: 3.0385122299194336 seconds\n",
      "Test adaptive LSTM: 4.587187051773071 seconds\n",
      "Test Adaptive Sequence Greedy: 2.551939010620117 seconds\n",
      "Test Sequence Greedy: 2.2159528732299805 seconds\n",
      "Test Frequency: 1.4075238704681396 seconds\n",
      "------\n",
      " Trial Number 2\n",
      "Train graph: 0.006273746490478516 seconds\n",
      "Train feed-forward network: 1.2156388759613037 seconds\n",
      "Test feed-forward network: 2.072031021118164 seconds\n"
     ]
    }
   ],
   "source": [
    "for i in range(0,numTrials):\n",
    "    print ('------\\n','Trial Number',i+1)\n",
    "    trainDic,testDic = trainTestSplit(users,percTrain,productMap)\n",
    "    #Format training/testing data for the feed forward NN.\n",
    "    trainX,trainY = formatNeuralNetworkData(users,productMap,trainDic)\n",
    "    #Format training/testing data for the LSTM.\n",
    "    trainXlstm,trainYlstm = formatLSTMData(users,productMap,trainDic,inputSteps) \n",
    "\n",
    "    start = time.time()\n",
    "    #Train the graph for Adaptive Sequence Greedy (and sequence-greedy).\n",
    "    p1,p2 = productDic(users,trainDic,thresh) \n",
    "    print('Train graph:',time.time()-start,'seconds')\n",
    "\n",
    "    start = time.time()\n",
    "    model = trainNetwork(trainX,trainY,numNodes)\n",
    "    print ('Train feed-forward network:',time.time()-start,'seconds')\n",
    "\n",
    "    start = time.time()\n",
    "    nn += testNetwork(users,productMap,idMap,testDic,model,given,k)/numTrials\n",
    "    print ('Test feed-forward network:',time.time()-start,'seconds')\n",
    "\n",
    "    start = time.time()\n",
    "    nnAdaptive += testNetworkAdaptive(users,productMap,idMap,testDic,model,given,k)/numTrials\n",
    "    print ('Test adaptive feed-forward network:',time.time()-start,'seconds')\n",
    "\n",
    "    start = time.time()\n",
    "    model = trainLSTM(trainXlstm,trainYlstm,numLSTM)\n",
    "    print ('Train LSTM:',time.time()-start,'seconds')\n",
    "\n",
    "    start = time.time()\n",
    "    lstm += testLSTM(users,productMap,idMap,testDic,model,given,k,inputSteps)/numTrials\n",
    "    print ('Test LSTM:',time.time()-start,'seconds')\n",
    "\n",
    "    start = time.time()\n",
    "    lstmAdaptive += testLSTMAdaptive(users,productMap,idMap,testDic,model,given,k,inputSteps)/numTrials\n",
    "    print ('Test adaptive LSTM:',time.time()-start,'seconds')\n",
    "\n",
    "    start = time.time()\n",
    "    ASG += adaptive(p1,p2,users,testDic,given,k)/numTrials\n",
    "    print ('Test Adaptive Sequence Greedy:',time.time()-start,'seconds')\n",
    "\n",
    "    start = time.time()\n",
    "    SG += nonadaptive(p1,p2,users,testDic,given,k)/numTrials\n",
    "    print ('Test Sequence Greedy:',time.time()-start,'seconds')\n",
    "\n",
    "    start = time.time()\n",
    "    freq += nonsequence(p1,p2,users,testDic,given,k)/numTrials\n",
    "    print ('Test Frequency:',time.time()-start,'seconds')\n"
   ]
  },
  {
   "cell_type": "markdown",
   "metadata": {},
   "source": [
    "# Plot"
   ]
  },
  {
   "cell_type": "markdown",
   "metadata": {},
   "source": [
    "## Accuracy vs. Number of Recommendations"
   ]
  },
  {
   "cell_type": "code",
   "execution_count": null,
   "metadata": {},
   "outputs": [],
   "source": [
    "fig = plt.figure()\n",
    "ax = fig.add_subplot(111)\n",
    "xList = range(1,k+1)\n",
    "plt.xlabel('Number of Recommendations',size = '25')\n",
    "plt.ylabel('Accuracy Score',size='25')\n",
    "plt.xticks(xList,size='22')\n",
    "plt.yticks(size='22')\n",
    "green_line = mlines.Line2D([], [], color='g', marker='s', linestyle='-',markersize=5, \n",
    "                           label='Adaptive Sequence-Greedy')\n",
    "blue_line = mlines.Line2D([], [], color='b', marker='s', linestyle=':',markersize=5, \n",
    "                          label='Sequence-Greedy')\n",
    "red_line = mlines.Line2D([], [], color='r', marker='>', linestyle=':',markersize=5, \n",
    "                         label='Frequency')\n",
    "teal_line = mlines.Line2D([], [], color='c', marker='o', linestyle='-',markersize=5, \n",
    "                          label='Adaptive Feed Forward NN')\n",
    "teal_dotted_line = mlines.Line2D([], [], color='c', marker='o', linestyle=':',markersize=5, \n",
    "                                 label='Non-Adaptive Feed Forward NN')\n",
    "purple_line = mlines.Line2D([], [], color='m', marker='P', linestyle='-',markersize=5, \n",
    "                            label='Adaptive LSTM')\n",
    "purple_dotted_line = mlines.Line2D([], [], color='m', marker='P', linestyle=':',markersize=5, \n",
    "                                   label='Non-Adaptive LSTM')\n",
    "plt.legend(fontsize = 'large',handles=[green_line,blue_line,red_line,teal_line,teal_dotted_line,purple_line,\n",
    "                                       purple_dotted_line], \n",
    "           bbox_to_anchor=(1.05, 1), ncol=1)\n",
    "plt.plot(xList, nnAdaptive[0], '-co',linewidth=2.0,markersize=5.0)\n",
    "plt.plot(xList, nn[0], ':co',linewidth=2.0,markersize=5.0)\n",
    "plt.plot(xList, lstmAdaptive[0], '-mP',linewidth=2.0,markersize=5.0)\n",
    "plt.plot(xList, lstm[0], ':mP',linewidth=2.0,markersize=5.0)\n",
    "plt.plot(xList, ASG[0], '-gs',linewidth=2.0,markersize=5.0)\n",
    "plt.plot(xList, SG[0], ':bs',linewidth=2.0,markersize=5.0)\n",
    "plt.plot(xList, freq[0], ':r>',linewidth=2.0,markersize=5.0)\n",
    "plt.show()"
   ]
  },
  {
   "cell_type": "markdown",
   "metadata": {},
   "source": [
    "## Sequence Score vs. Number of Recommendations"
   ]
  },
  {
   "cell_type": "code",
   "execution_count": null,
   "metadata": {},
   "outputs": [],
   "source": [
    "plt.xlabel('Number of Recommendations',size = '25')\n",
    "plt.ylabel('Sequence Score',size='25')\n",
    "plt.xticks(xList,size='22')\n",
    "plt.yticks(size='22')\n",
    "green_line = mlines.Line2D([], [], color='g', marker='s', linestyle='-',markersize=5, \n",
    "                           label='Adaptive Sequence-Greedy')\n",
    "blue_line = mlines.Line2D([], [], color='b', marker='s', linestyle=':',markersize=5, \n",
    "                          label='Sequence-Greedy')\n",
    "red_line = mlines.Line2D([], [], color='r', marker='>', linestyle=':',markersize=5, \n",
    "                         label='Frequency')\n",
    "teal_line = mlines.Line2D([], [], color='c', marker='o', linestyle='-',markersize=5, \n",
    "                          label='Adaptive Feed Forward NN')\n",
    "teal_dotted_line = mlines.Line2D([], [], color='c', marker='o', linestyle=':',markersize=5, \n",
    "                                 label='Non-Adaptive Feed Forward NN')\n",
    "purple_line = mlines.Line2D([], [], color='m', marker='P', linestyle='-',markersize=5, \n",
    "                            label='Adaptive LSTM')\n",
    "purple_dotted_line = mlines.Line2D([], [], color='m', marker='P', linestyle=':',markersize=5, \n",
    "                                   label='Non-Adaptive LSTM')\n",
    "plt.legend(fontsize = 'large',handles=[green_line,blue_line,red_line,teal_line,teal_dotted_line,purple_line,\n",
    "                                       purple_dotted_line], bbox_to_anchor=(1.05, 1), ncol=1)\n",
    "plt.plot(xList, nnAdaptive[1], '-co',linewidth=2.0,markersize=5.0)\n",
    "plt.plot(xList, nn[1], ':co',linewidth=2.0,markersize=5.0)\n",
    "plt.plot(xList, lstmAdaptive[1], '-mP',linewidth=2.0,markersize=5.0)\n",
    "plt.plot(xList, lstm[1], ':mP',linewidth=2.0,markersize=5.0)\n",
    "plt.plot(xList, ASG[1], '-gs',linewidth=2.0,markersize=5.0)\n",
    "plt.plot(xList, SG[1], ':bs',linewidth=2.0,markersize=5.0)\n",
    "plt.plot(xList, freq[1], ':r>',linewidth=2.0,markersize=5.0)\n",
    "plt.show()"
   ]
  },
  {
   "cell_type": "code",
   "execution_count": null,
   "metadata": {
    "collapsed": true
   },
   "outputs": [],
   "source": []
  },
  {
   "cell_type": "code",
   "execution_count": null,
   "metadata": {
    "collapsed": true
   },
   "outputs": [],
   "source": []
  }
 ],
 "metadata": {
  "kernelspec": {
   "display_name": "Python [conda root]",
   "language": "python",
   "name": "conda-root-py"
  },
  "language_info": {
   "codemirror_mode": {
    "name": "ipython",
    "version": 3
   },
   "file_extension": ".py",
   "mimetype": "text/x-python",
   "name": "python",
   "nbconvert_exporter": "python",
   "pygments_lexer": "ipython3",
   "version": "3.6.6"
  }
 },
 "nbformat": 4,
 "nbformat_minor": 2
}
